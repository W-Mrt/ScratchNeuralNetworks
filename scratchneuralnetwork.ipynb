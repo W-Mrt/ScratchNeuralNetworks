{
  "nbformat": 4,
  "nbformat_minor": 0,
  "metadata": {
    "colab": {
      "provenance": [],
      "authorship_tag": "ABX9TyMdNMwYblYYYVE1iV9cKMGi",
      "include_colab_link": true
    },
    "kernelspec": {
      "name": "python3",
      "display_name": "Python 3"
    },
    "language_info": {
      "name": "python"
    }
  },
  "cells": [
    {
      "cell_type": "markdown",
      "metadata": {
        "id": "view-in-github",
        "colab_type": "text"
      },
      "source": [
        "<a href=\"https://colab.research.google.com/github/W-Mrt/ScratchNeuralNetworks/blob/main/scratchneuralnetwork.ipynb\" target=\"_parent\"><img src=\"https://colab.research.google.com/assets/colab-badge.svg\" alt=\"Open In Colab\"/></a>"
      ]
    },
    {
      "cell_type": "code",
      "execution_count": null,
      "metadata": {
        "id": "zyDltIqMvzjX"
      },
      "outputs": [],
      "source": [
        "import numpy as np\n",
        "import pandas as pd\n",
        "from matplotlib import pyplot as plt"
      ]
    },
    {
      "cell_type": "code",
      "source": [
        "#import data from Kaggle\n",
        "import json, os\n",
        "\n",
        "# 1. Install the Kaggle API client\n",
        "!pip install kaggle --quiet"
      ],
      "metadata": {
        "id": "0hfyL3wZwDzQ"
      },
      "execution_count": null,
      "outputs": []
    },
    {
      "cell_type": "code",
      "source": [
        "# 2. Set your Kaggle credentials\n",
        "# Load the file\n",
        "with open('kaggle.json') as f:\n",
        "    creds = json.load(f)\n",
        "\n",
        "# Set environment variables\n",
        "os.environ['KAGGLE_USERNAME'] = creds['username']\n",
        "os.environ['KAGGLE_KEY'] = creds['key']\n",
        "\n",
        "# 3. Import and authenticate\n",
        "from kaggle.api.kaggle_api_extended import KaggleApi\n",
        "api = KaggleApi()\n",
        "api.authenticate()  # reads env variables correctly\n",
        "\n",
        "# 4. Download and unzip the MNIST CSV dataset\n",
        "api.dataset_download_files(\n",
        "    'oddrationale/mnist-in-csv',\n",
        "    path='mnist-data',\n",
        "    unzip=True,\n",
        "    quiet=False\n",
        ")\n",
        "\n",
        "# 5. Load CSVs into pandas and prepare NumPy arrays\n",
        "import pandas as pd\n",
        "import numpy as np\n",
        "\n",
        "train = pd.read_csv('mnist-data/mnist_train.csv')\n",
        "test = pd.read_csv('mnist-data/mnist_test.csv')"
      ],
      "metadata": {
        "colab": {
          "base_uri": "https://localhost:8080/"
        },
        "id": "mPVmINn-ulxB",
        "outputId": "784adfe0-fabe-414b-ff24-6e3b164fb8e4"
      },
      "execution_count": null,
      "outputs": [
        {
          "output_type": "stream",
          "name": "stdout",
          "text": [
            "Dataset URL: https://www.kaggle.com/datasets/oddrationale/mnist-in-csv\n",
            "Downloading mnist-in-csv.zip to mnist-data\n"
          ]
        },
        {
          "output_type": "stream",
          "name": "stderr",
          "text": [
            "100%|██████████| 15.2M/15.2M [00:00<00:00, 1.05GB/s]"
          ]
        },
        {
          "output_type": "stream",
          "name": "stdout",
          "text": [
            "\n"
          ]
        },
        {
          "output_type": "stream",
          "name": "stderr",
          "text": [
            "\n"
          ]
        }
      ]
    },
    {
      "cell_type": "code",
      "source": [],
      "metadata": {
        "id": "VN5ln4m5u4gD"
      },
      "execution_count": null,
      "outputs": []
    }
  ]
}